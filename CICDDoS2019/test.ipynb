{
 "cells": [
  {
   "cell_type": "code",
   "execution_count": 5,
   "id": "cf338891",
   "metadata": {},
   "outputs": [],
   "source": [
    "test_try_n=1"
   ]
  },
  {
   "cell_type": "code",
   "execution_count": 6,
   "id": "9409d73f",
   "metadata": {},
   "outputs": [
    {
     "data": {
      "text/plain": [
       "['Krum_3-D0']"
      ]
     },
     "execution_count": 6,
     "metadata": {},
     "output_type": "execute_result"
    }
   ],
   "source": [
    "import torch\n",
    "import os\n",
    "from torch import nn\n",
    "import json\n",
    "# import time\n",
    "\n",
    "test_path='./process_data/result5/'\n",
    "os.listdir('./try'+str(test_try_n)+'_result/')\n",
    "\n",
    "# ['DNS', 'LDAP', 'MSSQL', 'NetBIOS', 'NTP', 'Portmap', 'SNMP', 'SSDP', 'Syn', 'TFTP', 'UDPLag', 'UDP']"
   ]
  },
  {
   "cell_type": "code",
   "execution_count": 7,
   "id": "28b5e1c4",
   "metadata": {},
   "outputs": [],
   "source": [
    "temp_find = False\n",
    "for temp_fn in os.listdir('./try'+str(test_try_n)+'_result/'):\n",
    "    temp_w='./try'+str(test_try_n)+'_result/'+temp_fn+'/'\n",
    "    if os.listdir(temp_w) == ['model.pt']:\n",
    "        temp_find =True\n",
    "        e_name=temp_fn\n",
    "        break\n",
    "if not temp_find:\n",
    "    assert False"
   ]
  },
  {
   "cell_type": "code",
   "execution_count": 8,
   "id": "531e7df4",
   "metadata": {},
   "outputs": [],
   "source": [
    "class TabTransformNet(nn.Module):\n",
    "    def __init__(self):\n",
    "        super(TabTransformNet, self).__init__()\n",
    "        self.net=nn.Sequential(\n",
    "            # nn.Linear(79, 64,bias=False),\n",
    "            nn.Linear(66, 48),\n",
    "            nn.ReLU(),\n",
    "            nn.Linear(48, 32),\n",
    "            nn.ReLU(),\n",
    "            nn.Linear(32, 66),\n",
    "        )\n",
    "\n",
    "    def forward(self, x):\n",
    "        out = self.net(x)\n",
    "        return out\n",
    "\n",
    "class NeuTraL(nn.Module):\n",
    "    def __init__(self, num_trans):\n",
    "        super(NeuTraL, self).__init__()\n",
    "        self.enc=nn.Sequential(\n",
    "            nn.Linear(66, 48),\n",
    "            nn.ReLU(),\n",
    "            nn.Linear(48, 32),\n",
    "            nn.ReLU(),\n",
    "            nn.Linear(32, 32),\n",
    "            nn.ReLU(),\n",
    "            nn.Linear(32, 32),\n",
    "        )\n",
    "        self.num_trans=num_trans\n",
    "        self.trans = nn.ModuleList([TabTransformNet() for _ in range(self.num_trans)])\n",
    "\n",
    "    def forward(self,x):\n",
    "        x_T = torch.zeros(x.shape[0],self.num_trans,x.shape[-1]).to(x)\n",
    "        for i in range(self.num_trans):\n",
    "            mask = self.trans[i](x)\n",
    "            mask = torch.sigmoid(mask)\n",
    "            x_T[:, i] = mask * x\n",
    "        x_cat = torch.cat([x.unsqueeze(1),x_T],1)  # x_cat形状为[batch_size,self.num_trans+1,79]\n",
    "        zs = self.enc(x_cat.reshape(-1,x.shape[-1]))\n",
    "        z_dim=zs.shape[-1]\n",
    "        return zs.reshape(x.shape[0],self.num_trans+1,z_dim)"
   ]
  },
  {
   "cell_type": "code",
   "execution_count": 9,
   "id": "f73e2af7",
   "metadata": {},
   "outputs": [],
   "source": [
    "def NeuTraL_loss(z,device,y,temp=0.1):\n",
    "    z=z.to(device)\n",
    "    z = nn.functional.normalize(z, p=2, dim=-1)\n",
    "    # 上面这一行 z本来形状为[batch_size,num_trans+1,z_dim] 处理后 每个z[a,b,:]向量都分别被变为长度为1\n",
    "    \n",
    "    z_ori = z[:, 0]  # n,z\n",
    "    z_trans = z[:, 1:]  # n,k-1, z\n",
    "    batch_size, num_trans, z_dim = z.shape  # 此处的num_trans实际上是num_trans+1\n",
    "\n",
    "    sim_matrix = torch.exp(torch.matmul(z, z.permute(0, 2, 1) / temp))  # n,k,k\n",
    "    \n",
    "    # 下面这一行 减号前的一项形状为[batch_size,num_trans+1,z_dim] 减号后的一项形状为[1,num_trans+1,z_dim]\n",
    "    # torch.eye()对角矩阵\n",
    "    mask = (torch.ones_like(sim_matrix).to(device) - torch.eye(num_trans).unsqueeze(0).to(device)).bool()\n",
    "    # 下面这一行 masked_select返回一维tensor\n",
    "    sim_matrix = sim_matrix.masked_select(mask).view(batch_size, num_trans, -1)\n",
    "    trans_matrix = sim_matrix[:, 1:].sum(-1)  # n,k-1\n",
    "\n",
    "    pos_sim = torch.exp(torch.sum(z_trans * z_ori.unsqueeze(1), -1) / temp) # n,k-1\n",
    "    K = num_trans - 1\n",
    "    scale = 1 / abs(K*float(torch.log(torch.tensor(1.0 / K))))\n",
    "\n",
    "    # loss_tensor = (torch.log(trans_matrix+1e-7) - torch.log(pos_sim+1e-7)) * scale\n",
    "    p_k=pos_sim/(trans_matrix+1e-7) # n,k-1\n",
    "    # y原本的形状是[n]\n",
    "    y=y.view(-1,1)\n",
    "    p_k_y=(1-y)*p_k+y*(1-p_k)\n",
    "    l_tensor =-torch.log(p_k_y+1e-7)\n",
    "    return l_tensor.sum(1)\n",
    "\n",
    "def e_loss(x,net,device):\n",
    "    # 测试时 仅使用损失函数的一项 需要传输全为0的y作为参数\n",
    "    y=torch.zeros(x.shape[0]).float()\n",
    "    y=y.to(device)\n",
    "    net = net.to(device)\n",
    "    x=x.to(device)\n",
    "    with torch.no_grad():\n",
    "        z=net(x)\n",
    "        l=NeuTraL_loss(z,device,y)\n",
    "    return l"
   ]
  },
  {
   "cell_type": "code",
   "execution_count": 10,
   "id": "61fd81f6",
   "metadata": {},
   "outputs": [
    {
     "name": "stderr",
     "output_type": "stream",
     "text": [
      "C:\\Users\\riven\\AppData\\Local\\Temp\\ipykernel_18556\\3704522685.py:3: FutureWarning: You are using `torch.load` with `weights_only=False` (the current default value), which uses the default pickle module implicitly. It is possible to construct malicious pickle data which will execute arbitrary code during unpickling (See https://github.com/pytorch/pytorch/blob/main/SECURITY.md#untrusted-models for more details). In a future release, the default value for `weights_only` will be flipped to `True`. This limits the functions that could be executed during unpickling. Arbitrary objects will no longer be allowed to be loaded via this mode unless they are explicitly allowlisted by the user via `torch.serialization.add_safe_globals`. We recommend you start setting `weights_only=True` for any use case where you don't have full control of the loaded file. Please open an issue on GitHub for any issues related to this experimental feature.\n",
      "  model.load_state_dict(torch.load('./try'+str(test_try_n)+'_result/'+e_name+'/model.pt'))\n"
     ]
    }
   ],
   "source": [
    "t_num=4\n",
    "model = NeuTraL(t_num)\n",
    "model.load_state_dict(torch.load('./try'+str(test_try_n)+'_result/'+e_name+'/model.pt'))\n",
    "\n",
    "# mean_std = json.load(open(\"./../dataset/Spotting_Anomalies_at_the_Edge/tensor/mean_std.json\", 'r'))\n",
    "batch_num=2000"
   ]
  },
  {
   "cell_type": "code",
   "execution_count": 11,
   "id": "62c78a79",
   "metadata": {},
   "outputs": [
    {
     "name": "stderr",
     "output_type": "stream",
     "text": [
      "C:\\Users\\riven\\AppData\\Local\\Temp\\ipykernel_18556\\1952268231.py:8: FutureWarning: You are using `torch.load` with `weights_only=False` (the current default value), which uses the default pickle module implicitly. It is possible to construct malicious pickle data which will execute arbitrary code during unpickling (See https://github.com/pytorch/pytorch/blob/main/SECURITY.md#untrusted-models for more details). In a future release, the default value for `weights_only` will be flipped to `True`. This limits the functions that could be executed during unpickling. Arbitrary objects will no longer be allowed to be loaded via this mode unless they are explicitly allowlisted by the user via `torch.serialization.add_safe_globals`. We recommend you start setting `weights_only=True` for any use case where you don't have full control of the loaded file. Please open an issue on GitHub for any issues related to this experimental feature.\n",
      "  test_data = torch.load(test_path+ff)\n"
     ]
    },
    {
     "name": "stdout",
     "output_type": "stream",
     "text": [
      "attack_test/DNS.pt\n",
      "attack_test/LDAP.pt\n",
      "attack_test/MSSQL.pt\n",
      "attack_test/NetBIOS.pt\n",
      "attack_test/NTP.pt\n",
      "attack_test/Portmap.pt\n",
      "attack_test/SNMP.pt\n",
      "attack_test/SSDP.pt\n",
      "attack_test/Syn.pt\n",
      "attack_test/TFTP.pt\n",
      "attack_test/UDP.pt\n",
      "attack_test/UDPLag.pt\n",
      "BENIGN/BENIGN_test.pt\n"
     ]
    }
   ],
   "source": [
    "dic={}\n",
    "\n",
    "device=torch.device('cuda' if torch.cuda.is_available() else 'cpu')\n",
    "for ff in ['attack_test/DNS.pt', 'attack_test/LDAP.pt', 'attack_test/MSSQL.pt', 'attack_test/NetBIOS.pt',\n",
    "           'attack_test/NTP.pt', 'attack_test/Portmap.pt', 'attack_test/SNMP.pt', 'attack_test/SSDP.pt',\n",
    "           'attack_test/Syn.pt', 'attack_test/TFTP.pt', 'attack_test/UDP.pt', 'attack_test/UDPLag.pt','BENIGN/BENIGN_test.pt']:\n",
    "    \n",
    "    test_data = torch.load(test_path+ff)\n",
    "    print(ff)\n",
    "    dic[ff]=[]\n",
    "    i=0\n",
    "    while i<test_data.shape[0]:\n",
    "        data_x=test_data[i:min(i+batch_num,test_data.shape[0])]\n",
    "        num_this_batch=data_x.shape[0]\n",
    "        dic[ff].append(e_loss(data_x.to(device),model,device))\n",
    "        i+=batch_num"
   ]
  },
  {
   "cell_type": "code",
   "execution_count": 12,
   "id": "c156d123",
   "metadata": {},
   "outputs": [
    {
     "name": "stdout",
     "output_type": "stream",
     "text": [
      "DNS\n",
      "LDAP\n",
      "MSSQL\n",
      "NetBIOS\n",
      "NTP\n",
      "Portmap\n",
      "SNMP\n",
      "SSDP\n",
      "Syn\n",
      "TFTP\n",
      "UDP\n",
      "UDPLag\n",
      "BENIGN\n"
     ]
    }
   ],
   "source": [
    "dic_re={}\n",
    "for k in dic.keys():\n",
    "    if 'BENIGN' in k:\n",
    "        k_re='BENIGN'\n",
    "    else:\n",
    "        k_re=k.split('/')[1][:-3]\n",
    "    dic_re[k_re]=[]\n",
    "    print(k_re)\n",
    "\n",
    "    for tup in dic[k]:\n",
    "        for i in range(tup.shape[0]):\n",
    "            dic_re[k_re].append(float(tup[i]))\n",
    "\n",
    "json.dump(dic_re, open(\"./try\"+str(test_try_n)+\"_result/\"+e_name+\"/score.json\",\"w\"))"
   ]
  },
  {
   "cell_type": "code",
   "execution_count": null,
   "id": "70118c91",
   "metadata": {},
   "outputs": [],
   "source": []
  },
  {
   "cell_type": "code",
   "execution_count": null,
   "id": "3976ab49",
   "metadata": {},
   "outputs": [],
   "source": []
  },
  {
   "cell_type": "code",
   "execution_count": null,
   "id": "d30bd94b",
   "metadata": {},
   "outputs": [],
   "source": []
  },
  {
   "cell_type": "code",
   "execution_count": 13,
   "id": "0475cddf",
   "metadata": {},
   "outputs": [],
   "source": [
    "import json\n",
    "import numpy as np\n",
    "from sklearn import metrics\n",
    "import matplotlib.pyplot as plt"
   ]
  },
  {
   "cell_type": "code",
   "execution_count": 14,
   "id": "58d09f8c",
   "metadata": {},
   "outputs": [
    {
     "name": "stdout",
     "output_type": "stream",
     "text": [
      "DNS 100000 40328\n",
      "0.9982756369024002\n",
      "LDAP 100000 40328\n",
      "0.9985343808272169\n",
      "MSSQL 100000 40328\n",
      "0.9984082672088872\n",
      "NetBIOS 100000 40328\n",
      "0.9963858350277723\n",
      "NTP 100000 40328\n",
      "0.9981809060702241\n",
      "Portmap 100000 40328\n",
      "0.9963091308768102\n",
      "SNMP 100000 40328\n",
      "0.9985179525391787\n",
      "SSDP 100000 40328\n",
      "0.9986526055098195\n",
      "Syn 100000 40328\n",
      "0.8134293402846656\n",
      "TFTP 100000 40328\n",
      "0.9974840573546915\n",
      "UDPLag 100000 40328\n",
      "0.8611307383207697\n",
      "UDP 100000 40328\n",
      "0.9985950673229518\n",
      "1200000 40328\n",
      "0.9711586598537822\n"
     ]
    },
    {
     "data": {
      "image/png": "[encoded data removed]",
      "text/plain": [
       "<Figure size 640x480 with 1 Axes>"
      ]
     },
     "metadata": {},
     "output_type": "display_data"
    }
   ],
   "source": [
    "load_j = json.load(open(\"./try\"+str(test_try_n)+\"_result/\"+e_name+\"/score.json\", 'r'))\n",
    "\n",
    "for test_type in ['DNS', 'LDAP', 'MSSQL', 'NetBIOS', 'NTP', 'Portmap', 'SNMP', 'SSDP', 'Syn', 'TFTP', 'UDPLag', 'UDP']:\n",
    "    p_num=len(load_j[test_type])\n",
    "    n_num=len(load_j['BENIGN'])\n",
    "    print(test_type,p_num,n_num)\n",
    "    \n",
    "    x_label=np.array([0]*n_num+[1]*p_num)\n",
    "    x_score=np.array(load_j['BENIGN']+load_j[test_type])\n",
    "    fpr, tpr, thresholds = metrics.roc_curve(x_label, x_score, pos_label=1)\n",
    "    AUC = metrics.auc(fpr, tpr)\n",
    "    print(AUC)\n",
    "    \n",
    "    AUC_str=\"_AUC_%.6f\"%AUC\n",
    "    \n",
    "    plt.clf()\n",
    "    plt.plot(fpr,tpr,marker = 'o')\n",
    "    plt.savefig(\"./try\"+str(test_try_n)+\"_result/\"+e_name+\"/\"+test_type+AUC_str+\".png\")\n",
    "\n",
    "\n",
    "p_num=0\n",
    "for test_type in ['DNS', 'LDAP', 'MSSQL', 'NetBIOS', 'NTP', 'Portmap', 'SNMP', 'SSDP', 'Syn', 'TFTP', 'UDPLag', 'UDP']:\n",
    "    p_num+=len(load_j[test_type])\n",
    "n_num=len(load_j['BENIGN'])\n",
    "print(p_num,n_num)\n",
    "    \n",
    "x_label=np.array([0]*n_num+[1]*p_num)\n",
    "x_score=load_j['BENIGN']\n",
    "for test_type in ['DNS', 'LDAP', 'MSSQL', 'NetBIOS', 'NTP', 'Portmap', 'SNMP', 'SSDP', 'Syn', 'TFTP', 'UDPLag', 'UDP']:\n",
    "    x_score=x_score+load_j[test_type]\n",
    "x_score=np.array(x_score)\n",
    "fpr, tpr, thresholds = metrics.roc_curve(x_label, x_score, pos_label=1)\n",
    "AUC = metrics.auc(fpr, tpr)\n",
    "print(AUC)\n",
    "\n",
    "AUC_str=\"zong_AUC_%.6f\"%AUC\n",
    "plt.clf()\n",
    "plt.plot(fpr,tpr,marker = 'o')\n",
    "plt.savefig(\"./try\"+str(test_try_n)+\"_result/\"+e_name+\"/\"+AUC_str+\".png\")\n",
    "plt.show()"
   ]
  },
  {
   "cell_type": "code",
   "execution_count": 15,
   "id": "f04ee67c",
   "metadata": {},
   "outputs": [
    {
     "name": "stdout",
     "output_type": "stream",
     "text": [
      "Krum_3-D0 zong_AUC_0.971159\n"
     ]
    }
   ],
   "source": [
    "print(e_name,AUC_str)"
   ]
  },
  {
   "cell_type": "code",
   "execution_count": null,
   "id": "bd43ddc7",
   "metadata": {},
   "outputs": [],
   "source": []
  }
 ],
 "metadata": {
  "kernelspec": {
   "display_name": "Python 3 (ipykernel)",
   "language": "python",
   "name": "python3"
  },
  "language_info": {
   "codemirror_mode": {
    "name": "ipython",
    "version": 3
   },
   "file_extension": ".py",
   "mimetype": "text/x-python",
   "name": "python",
   "nbconvert_exporter": "python",
   "pygments_lexer": "ipython3",
   "version": "3.9.12"
  }
 },
 "nbformat": 4,
 "nbformat_minor": 5
}
